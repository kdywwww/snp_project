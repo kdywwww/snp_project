{
 "cells": [
  {
   "cell_type": "code",
   "execution_count": 1,
   "id": "45a5edd0",
   "metadata": {},
   "outputs": [],
   "source": [
    "import os\n",
    "from twelvedata import TDClient\n",
    "import pandas as pd\n",
    "from datetime import datetime, timedelta\n",
    "import pytz"
   ]
  },
  {
   "cell_type": "code",
   "execution_count": 2,
   "id": "fb1054ed",
   "metadata": {},
   "outputs": [
    {
     "data": {
      "text/plain": [
       "'/app'"
      ]
     },
     "execution_count": 2,
     "metadata": {},
     "output_type": "execute_result"
    }
   ],
   "source": [
    "os.getcwd()"
   ]
  },
  {
   "cell_type": "code",
   "execution_count": 16,
   "id": "44bf16e3",
   "metadata": {},
   "outputs": [],
   "source": [
    "td = TDClient(apikey=\"45d1cfb01d4d4677a1a158bd46a97b84\")"
   ]
  },
  {
   "cell_type": "markdown",
   "id": "9cc5930c",
   "metadata": {},
   "source": [
    "# 1. SPY"
   ]
  },
  {
   "cell_type": "code",
   "execution_count": 12,
   "id": "e4b05e43",
   "metadata": {},
   "outputs": [],
   "source": [
    "ts = td.time_series(\n",
    "        symbol=\"SPY\",\n",
    "        interval=\"1day\",\n",
    "        start_date=\"2010-01-01\",\n",
    "        end_date=\"2019-12-31\",\n",
    "        outputsize=5000\n",
    "    )\n",
    "data_df = ts.as_pandas()"
   ]
  },
  {
   "cell_type": "code",
   "execution_count": 13,
   "id": "15f53b7b",
   "metadata": {},
   "outputs": [
    {
     "name": "stdout",
     "output_type": "stream",
     "text": [
      "(2515, 5)\n"
     ]
    },
    {
     "data": {
      "text/html": [
       "<div>\n",
       "<style scoped>\n",
       "    .dataframe tbody tr th:only-of-type {\n",
       "        vertical-align: middle;\n",
       "    }\n",
       "\n",
       "    .dataframe tbody tr th {\n",
       "        vertical-align: top;\n",
       "    }\n",
       "\n",
       "    .dataframe thead th {\n",
       "        text-align: right;\n",
       "    }\n",
       "</style>\n",
       "<table border=\"1\" class=\"dataframe\">\n",
       "  <thead>\n",
       "    <tr style=\"text-align: right;\">\n",
       "      <th></th>\n",
       "      <th>open</th>\n",
       "      <th>high</th>\n",
       "      <th>low</th>\n",
       "      <th>close</th>\n",
       "      <th>volume</th>\n",
       "    </tr>\n",
       "    <tr>\n",
       "      <th>datetime</th>\n",
       "      <th></th>\n",
       "      <th></th>\n",
       "      <th></th>\n",
       "      <th></th>\n",
       "      <th></th>\n",
       "    </tr>\n",
       "  </thead>\n",
       "  <tbody>\n",
       "    <tr>\n",
       "      <th>2019-12-30</th>\n",
       "      <td>322.95001</td>\n",
       "      <td>323.10001</td>\n",
       "      <td>320.54999</td>\n",
       "      <td>321.07999</td>\n",
       "      <td>49729100</td>\n",
       "    </tr>\n",
       "    <tr>\n",
       "      <th>2019-12-27</th>\n",
       "      <td>323.73999</td>\n",
       "      <td>323.79999</td>\n",
       "      <td>322.28000</td>\n",
       "      <td>322.85999</td>\n",
       "      <td>42528800</td>\n",
       "    </tr>\n",
       "    <tr>\n",
       "      <th>2019-12-26</th>\n",
       "      <td>321.64999</td>\n",
       "      <td>322.95001</td>\n",
       "      <td>321.64001</td>\n",
       "      <td>322.94000</td>\n",
       "      <td>30911200</td>\n",
       "    </tr>\n",
       "    <tr>\n",
       "      <th>2019-12-24</th>\n",
       "      <td>321.47000</td>\n",
       "      <td>321.51999</td>\n",
       "      <td>320.89999</td>\n",
       "      <td>321.23001</td>\n",
       "      <td>20270000</td>\n",
       "    </tr>\n",
       "    <tr>\n",
       "      <th>2019-12-23</th>\n",
       "      <td>321.59000</td>\n",
       "      <td>321.64999</td>\n",
       "      <td>321.06000</td>\n",
       "      <td>321.22000</td>\n",
       "      <td>52990000</td>\n",
       "    </tr>\n",
       "  </tbody>\n",
       "</table>\n",
       "</div>"
      ],
      "text/plain": [
       "                 open       high        low      close    volume\n",
       "datetime                                                        \n",
       "2019-12-30  322.95001  323.10001  320.54999  321.07999  49729100\n",
       "2019-12-27  323.73999  323.79999  322.28000  322.85999  42528800\n",
       "2019-12-26  321.64999  322.95001  321.64001  322.94000  30911200\n",
       "2019-12-24  321.47000  321.51999  320.89999  321.23001  20270000\n",
       "2019-12-23  321.59000  321.64999  321.06000  321.22000  52990000"
      ]
     },
     "execution_count": 13,
     "metadata": {},
     "output_type": "execute_result"
    }
   ],
   "source": [
    "print(data_df.shape)\n",
    "data_df.head()"
   ]
  },
  {
   "cell_type": "code",
   "execution_count": 17,
   "id": "c416b7c7",
   "metadata": {},
   "outputs": [],
   "source": [
    "ts = td.time_series(\n",
    "        symbol=\"SPY\",\n",
    "        interval=\"1day\",\n",
    "        start_date=\"2020-01-01\",\n",
    "        outputsize=5000\n",
    "    )\n",
    "data_2_df = ts.as_pandas()"
   ]
  },
  {
   "cell_type": "code",
   "execution_count": 16,
   "id": "d100e125",
   "metadata": {},
   "outputs": [
    {
     "name": "stdout",
     "output_type": "stream",
     "text": [
      "(1411, 5)\n"
     ]
    },
    {
     "data": {
      "text/html": [
       "<div>\n",
       "<style scoped>\n",
       "    .dataframe tbody tr th:only-of-type {\n",
       "        vertical-align: middle;\n",
       "    }\n",
       "\n",
       "    .dataframe tbody tr th {\n",
       "        vertical-align: top;\n",
       "    }\n",
       "\n",
       "    .dataframe thead th {\n",
       "        text-align: right;\n",
       "    }\n",
       "</style>\n",
       "<table border=\"1\" class=\"dataframe\">\n",
       "  <thead>\n",
       "    <tr style=\"text-align: right;\">\n",
       "      <th></th>\n",
       "      <th>open</th>\n",
       "      <th>high</th>\n",
       "      <th>low</th>\n",
       "      <th>close</th>\n",
       "      <th>volume</th>\n",
       "    </tr>\n",
       "    <tr>\n",
       "      <th>datetime</th>\n",
       "      <th></th>\n",
       "      <th></th>\n",
       "      <th></th>\n",
       "      <th></th>\n",
       "      <th></th>\n",
       "    </tr>\n",
       "  </thead>\n",
       "  <tbody>\n",
       "    <tr>\n",
       "      <th>2025-08-13</th>\n",
       "      <td>644.90000</td>\n",
       "      <td>646.17500</td>\n",
       "      <td>643.59000</td>\n",
       "      <td>643.91000</td>\n",
       "      <td>763342</td>\n",
       "    </tr>\n",
       "    <tr>\n",
       "      <th>2025-08-12</th>\n",
       "      <td>638.28998</td>\n",
       "      <td>642.84998</td>\n",
       "      <td>636.78998</td>\n",
       "      <td>642.69000</td>\n",
       "      <td>64730800</td>\n",
       "    </tr>\n",
       "    <tr>\n",
       "      <th>2025-08-11</th>\n",
       "      <td>637.46002</td>\n",
       "      <td>638.95001</td>\n",
       "      <td>634.65997</td>\n",
       "      <td>635.91998</td>\n",
       "      <td>58742300</td>\n",
       "    </tr>\n",
       "    <tr>\n",
       "      <th>2025-08-08</th>\n",
       "      <td>634.06000</td>\n",
       "      <td>637.65002</td>\n",
       "      <td>633.73999</td>\n",
       "      <td>637.17999</td>\n",
       "      <td>64051600</td>\n",
       "    </tr>\n",
       "    <tr>\n",
       "      <th>2025-08-07</th>\n",
       "      <td>636.23999</td>\n",
       "      <td>636.97998</td>\n",
       "      <td>629.10999</td>\n",
       "      <td>632.25000</td>\n",
       "      <td>74205800</td>\n",
       "    </tr>\n",
       "  </tbody>\n",
       "</table>\n",
       "</div>"
      ],
      "text/plain": [
       "                 open       high        low      close    volume\n",
       "datetime                                                        \n",
       "2025-08-13  644.90000  646.17500  643.59000  643.91000    763342\n",
       "2025-08-12  638.28998  642.84998  636.78998  642.69000  64730800\n",
       "2025-08-11  637.46002  638.95001  634.65997  635.91998  58742300\n",
       "2025-08-08  634.06000  637.65002  633.73999  637.17999  64051600\n",
       "2025-08-07  636.23999  636.97998  629.10999  632.25000  74205800"
      ]
     },
     "execution_count": 16,
     "metadata": {},
     "output_type": "execute_result"
    }
   ],
   "source": [
    "print(data_2_df.shape)\n",
    "data_2_df.head()"
   ]
  },
  {
   "cell_type": "code",
   "execution_count": 19,
   "id": "924d1214",
   "metadata": {},
   "outputs": [
    {
     "name": "stdout",
     "output_type": "stream",
     "text": [
      "(3926, 5)\n"
     ]
    },
    {
     "data": {
      "text/html": [
       "<div>\n",
       "<style scoped>\n",
       "    .dataframe tbody tr th:only-of-type {\n",
       "        vertical-align: middle;\n",
       "    }\n",
       "\n",
       "    .dataframe tbody tr th {\n",
       "        vertical-align: top;\n",
       "    }\n",
       "\n",
       "    .dataframe thead th {\n",
       "        text-align: right;\n",
       "    }\n",
       "</style>\n",
       "<table border=\"1\" class=\"dataframe\">\n",
       "  <thead>\n",
       "    <tr style=\"text-align: right;\">\n",
       "      <th></th>\n",
       "      <th>open</th>\n",
       "      <th>high</th>\n",
       "      <th>low</th>\n",
       "      <th>close</th>\n",
       "      <th>volume</th>\n",
       "    </tr>\n",
       "    <tr>\n",
       "      <th>datetime</th>\n",
       "      <th></th>\n",
       "      <th></th>\n",
       "      <th></th>\n",
       "      <th></th>\n",
       "      <th></th>\n",
       "    </tr>\n",
       "  </thead>\n",
       "  <tbody>\n",
       "    <tr>\n",
       "      <th>2025-08-13</th>\n",
       "      <td>644.90000</td>\n",
       "      <td>646.17500</td>\n",
       "      <td>643.59000</td>\n",
       "      <td>643.91000</td>\n",
       "      <td>763342</td>\n",
       "    </tr>\n",
       "    <tr>\n",
       "      <th>2025-08-12</th>\n",
       "      <td>638.28998</td>\n",
       "      <td>642.84998</td>\n",
       "      <td>636.78998</td>\n",
       "      <td>642.69000</td>\n",
       "      <td>64730800</td>\n",
       "    </tr>\n",
       "    <tr>\n",
       "      <th>2025-08-11</th>\n",
       "      <td>637.46002</td>\n",
       "      <td>638.95001</td>\n",
       "      <td>634.65997</td>\n",
       "      <td>635.91998</td>\n",
       "      <td>58742300</td>\n",
       "    </tr>\n",
       "    <tr>\n",
       "      <th>2025-08-08</th>\n",
       "      <td>634.06000</td>\n",
       "      <td>637.65002</td>\n",
       "      <td>633.73999</td>\n",
       "      <td>637.17999</td>\n",
       "      <td>64051600</td>\n",
       "    </tr>\n",
       "    <tr>\n",
       "      <th>2025-08-07</th>\n",
       "      <td>636.23999</td>\n",
       "      <td>636.97998</td>\n",
       "      <td>629.10999</td>\n",
       "      <td>632.25000</td>\n",
       "      <td>74205800</td>\n",
       "    </tr>\n",
       "  </tbody>\n",
       "</table>\n",
       "</div>"
      ],
      "text/plain": [
       "                 open       high        low      close    volume\n",
       "datetime                                                        \n",
       "2025-08-13  644.90000  646.17500  643.59000  643.91000    763342\n",
       "2025-08-12  638.28998  642.84998  636.78998  642.69000  64730800\n",
       "2025-08-11  637.46002  638.95001  634.65997  635.91998  58742300\n",
       "2025-08-08  634.06000  637.65002  633.73999  637.17999  64051600\n",
       "2025-08-07  636.23999  636.97998  629.10999  632.25000  74205800"
      ]
     },
     "execution_count": 19,
     "metadata": {},
     "output_type": "execute_result"
    }
   ],
   "source": [
    "total_df = pd.concat([data_2_df, data_df], axis=0)\n",
    "print(total_df.shape)\n",
    "total_df.head()"
   ]
  },
  {
   "cell_type": "code",
   "execution_count": 21,
   "id": "78402377",
   "metadata": {},
   "outputs": [],
   "source": [
    "total_df.sort_index(inplace=True)"
   ]
  },
  {
   "cell_type": "code",
   "execution_count": 23,
   "id": "faa1fa98",
   "metadata": {},
   "outputs": [],
   "source": [
    "total_df.to_csv(\"/data/spy_data.csv\")"
   ]
  },
  {
   "cell_type": "markdown",
   "id": "37b41da9",
   "metadata": {},
   "source": [
    "# 2. USD/KRW"
   ]
  },
  {
   "cell_type": "code",
   "execution_count": 7,
   "id": "379fd320",
   "metadata": {},
   "outputs": [],
   "source": [
    "ts = td.time_series(\n",
    "    symbol=\"USD/KRW\",\n",
    "    interval=\"1day\",\n",
    "    start_date=\"2010-01-01\",\n",
    "    end_date=\"2019-12-31\",\n",
    "    outputsize=5000\n",
    ")\n",
    "data_1_df = ts.as_pandas()"
   ]
  },
  {
   "cell_type": "code",
   "execution_count": 9,
   "id": "c7f21dd9",
   "metadata": {},
   "outputs": [
    {
     "name": "stdout",
     "output_type": "stream",
     "text": [
      "(2601, 4)\n"
     ]
    },
    {
     "data": {
      "text/html": [
       "<div>\n",
       "<style scoped>\n",
       "    .dataframe tbody tr th:only-of-type {\n",
       "        vertical-align: middle;\n",
       "    }\n",
       "\n",
       "    .dataframe tbody tr th {\n",
       "        vertical-align: top;\n",
       "    }\n",
       "\n",
       "    .dataframe thead th {\n",
       "        text-align: right;\n",
       "    }\n",
       "</style>\n",
       "<table border=\"1\" class=\"dataframe\">\n",
       "  <thead>\n",
       "    <tr style=\"text-align: right;\">\n",
       "      <th></th>\n",
       "      <th>open</th>\n",
       "      <th>high</th>\n",
       "      <th>low</th>\n",
       "      <th>close</th>\n",
       "    </tr>\n",
       "    <tr>\n",
       "      <th>datetime</th>\n",
       "      <th></th>\n",
       "      <th></th>\n",
       "      <th></th>\n",
       "      <th></th>\n",
       "    </tr>\n",
       "  </thead>\n",
       "  <tbody>\n",
       "    <tr>\n",
       "      <th>2019-12-27</th>\n",
       "      <td>1160.10999</td>\n",
       "      <td>1161.89001</td>\n",
       "      <td>1156.39001</td>\n",
       "      <td>1161.19995</td>\n",
       "    </tr>\n",
       "    <tr>\n",
       "      <th>2019-12-26</th>\n",
       "      <td>1159.75000</td>\n",
       "      <td>1163.65002</td>\n",
       "      <td>1159.15002</td>\n",
       "      <td>1159.75000</td>\n",
       "    </tr>\n",
       "    <tr>\n",
       "      <th>2019-12-25</th>\n",
       "      <td>1161.30005</td>\n",
       "      <td>1162.22998</td>\n",
       "      <td>1159.73999</td>\n",
       "      <td>1162.22998</td>\n",
       "    </tr>\n",
       "    <tr>\n",
       "      <th>2019-12-24</th>\n",
       "      <td>1161.53003</td>\n",
       "      <td>1165.51001</td>\n",
       "      <td>1158.81995</td>\n",
       "      <td>1161.56995</td>\n",
       "    </tr>\n",
       "    <tr>\n",
       "      <th>2019-12-23</th>\n",
       "      <td>1160.32996</td>\n",
       "      <td>1164.29004</td>\n",
       "      <td>1159.05005</td>\n",
       "      <td>1159.30005</td>\n",
       "    </tr>\n",
       "  </tbody>\n",
       "</table>\n",
       "</div>"
      ],
      "text/plain": [
       "                  open        high         low       close\n",
       "datetime                                                  \n",
       "2019-12-27  1160.10999  1161.89001  1156.39001  1161.19995\n",
       "2019-12-26  1159.75000  1163.65002  1159.15002  1159.75000\n",
       "2019-12-25  1161.30005  1162.22998  1159.73999  1162.22998\n",
       "2019-12-24  1161.53003  1165.51001  1158.81995  1161.56995\n",
       "2019-12-23  1160.32996  1164.29004  1159.05005  1159.30005"
      ]
     },
     "execution_count": 9,
     "metadata": {},
     "output_type": "execute_result"
    }
   ],
   "source": [
    "print(data_1_df.shape)\n",
    "data_1_df.head()"
   ]
  },
  {
   "cell_type": "code",
   "execution_count": 10,
   "id": "0b78f0e8",
   "metadata": {},
   "outputs": [],
   "source": [
    "ts = td.time_series(\n",
    "        symbol=\"USD/KRW\",\n",
    "        interval=\"1day\",\n",
    "        start_date=\"2020-01-01\",\n",
    "        outputsize=5000\n",
    "    )\n",
    "data_2_df = ts.as_pandas()"
   ]
  },
  {
   "cell_type": "code",
   "execution_count": 11,
   "id": "e4ce8ecd",
   "metadata": {},
   "outputs": [
    {
     "name": "stdout",
     "output_type": "stream",
     "text": [
      "(1489, 4)\n"
     ]
    },
    {
     "data": {
      "text/html": [
       "<div>\n",
       "<style scoped>\n",
       "    .dataframe tbody tr th:only-of-type {\n",
       "        vertical-align: middle;\n",
       "    }\n",
       "\n",
       "    .dataframe tbody tr th {\n",
       "        vertical-align: top;\n",
       "    }\n",
       "\n",
       "    .dataframe thead th {\n",
       "        text-align: right;\n",
       "    }\n",
       "</style>\n",
       "<table border=\"1\" class=\"dataframe\">\n",
       "  <thead>\n",
       "    <tr style=\"text-align: right;\">\n",
       "      <th></th>\n",
       "      <th>open</th>\n",
       "      <th>high</th>\n",
       "      <th>low</th>\n",
       "      <th>close</th>\n",
       "    </tr>\n",
       "    <tr>\n",
       "      <th>datetime</th>\n",
       "      <th></th>\n",
       "      <th></th>\n",
       "      <th></th>\n",
       "      <th></th>\n",
       "    </tr>\n",
       "  </thead>\n",
       "  <tbody>\n",
       "    <tr>\n",
       "      <th>2025-08-13</th>\n",
       "      <td>1384.00000</td>\n",
       "      <td>1386.41003</td>\n",
       "      <td>1374.78003</td>\n",
       "      <td>1379.59998</td>\n",
       "    </tr>\n",
       "    <tr>\n",
       "      <th>2025-08-12</th>\n",
       "      <td>1390.58997</td>\n",
       "      <td>1392.81995</td>\n",
       "      <td>1383.00000</td>\n",
       "      <td>1383.97998</td>\n",
       "    </tr>\n",
       "    <tr>\n",
       "      <th>2025-08-11</th>\n",
       "      <td>1388.78003</td>\n",
       "      <td>1394.31006</td>\n",
       "      <td>1385.07996</td>\n",
       "      <td>1390.58997</td>\n",
       "    </tr>\n",
       "    <tr>\n",
       "      <th>2025-08-09</th>\n",
       "      <td>1388.76001</td>\n",
       "      <td>1388.76001</td>\n",
       "      <td>1388.76001</td>\n",
       "      <td>1388.76001</td>\n",
       "    </tr>\n",
       "    <tr>\n",
       "      <th>2025-08-08</th>\n",
       "      <td>1383.51001</td>\n",
       "      <td>1391.64001</td>\n",
       "      <td>1378.97998</td>\n",
       "      <td>1389.67004</td>\n",
       "    </tr>\n",
       "  </tbody>\n",
       "</table>\n",
       "</div>"
      ],
      "text/plain": [
       "                  open        high         low       close\n",
       "datetime                                                  \n",
       "2025-08-13  1384.00000  1386.41003  1374.78003  1379.59998\n",
       "2025-08-12  1390.58997  1392.81995  1383.00000  1383.97998\n",
       "2025-08-11  1388.78003  1394.31006  1385.07996  1390.58997\n",
       "2025-08-09  1388.76001  1388.76001  1388.76001  1388.76001\n",
       "2025-08-08  1383.51001  1391.64001  1378.97998  1389.67004"
      ]
     },
     "execution_count": 11,
     "metadata": {},
     "output_type": "execute_result"
    }
   ],
   "source": [
    "print(data_2_df.shape)\n",
    "data_2_df.head()"
   ]
  },
  {
   "cell_type": "code",
   "execution_count": 12,
   "id": "a7ccb74d",
   "metadata": {},
   "outputs": [
    {
     "name": "stdout",
     "output_type": "stream",
     "text": [
      "(4090, 4)\n"
     ]
    },
    {
     "data": {
      "text/html": [
       "<div>\n",
       "<style scoped>\n",
       "    .dataframe tbody tr th:only-of-type {\n",
       "        vertical-align: middle;\n",
       "    }\n",
       "\n",
       "    .dataframe tbody tr th {\n",
       "        vertical-align: top;\n",
       "    }\n",
       "\n",
       "    .dataframe thead th {\n",
       "        text-align: right;\n",
       "    }\n",
       "</style>\n",
       "<table border=\"1\" class=\"dataframe\">\n",
       "  <thead>\n",
       "    <tr style=\"text-align: right;\">\n",
       "      <th></th>\n",
       "      <th>open</th>\n",
       "      <th>high</th>\n",
       "      <th>low</th>\n",
       "      <th>close</th>\n",
       "    </tr>\n",
       "    <tr>\n",
       "      <th>datetime</th>\n",
       "      <th></th>\n",
       "      <th></th>\n",
       "      <th></th>\n",
       "      <th></th>\n",
       "    </tr>\n",
       "  </thead>\n",
       "  <tbody>\n",
       "    <tr>\n",
       "      <th>2009-12-31</th>\n",
       "      <td>1161.50000</td>\n",
       "      <td>1161.90002</td>\n",
       "      <td>1144.00000</td>\n",
       "      <td>1151.09998</td>\n",
       "    </tr>\n",
       "    <tr>\n",
       "      <th>2010-01-01</th>\n",
       "      <td>1151.09998</td>\n",
       "      <td>1151.09998</td>\n",
       "      <td>1145.09998</td>\n",
       "      <td>1146.00000</td>\n",
       "    </tr>\n",
       "    <tr>\n",
       "      <th>2010-01-04</th>\n",
       "      <td>1152.09998</td>\n",
       "      <td>1156.30005</td>\n",
       "      <td>1132.40002</td>\n",
       "      <td>1132.40002</td>\n",
       "    </tr>\n",
       "    <tr>\n",
       "      <th>2010-01-05</th>\n",
       "      <td>1132.30005</td>\n",
       "      <td>1142.30005</td>\n",
       "      <td>1128.90002</td>\n",
       "      <td>1141.30005</td>\n",
       "    </tr>\n",
       "    <tr>\n",
       "      <th>2010-01-06</th>\n",
       "      <td>1141.09998</td>\n",
       "      <td>1143.50000</td>\n",
       "      <td>1123.69995</td>\n",
       "      <td>1130.40002</td>\n",
       "    </tr>\n",
       "  </tbody>\n",
       "</table>\n",
       "</div>"
      ],
      "text/plain": [
       "                  open        high         low       close\n",
       "datetime                                                  \n",
       "2009-12-31  1161.50000  1161.90002  1144.00000  1151.09998\n",
       "2010-01-01  1151.09998  1151.09998  1145.09998  1146.00000\n",
       "2010-01-04  1152.09998  1156.30005  1132.40002  1132.40002\n",
       "2010-01-05  1132.30005  1142.30005  1128.90002  1141.30005\n",
       "2010-01-06  1141.09998  1143.50000  1123.69995  1130.40002"
      ]
     },
     "execution_count": 12,
     "metadata": {},
     "output_type": "execute_result"
    }
   ],
   "source": [
    "total_df = pd.concat([data_2_df, data_1_df], axis=0)\n",
    "total_df.sort_index(inplace=True)\n",
    "print(total_df.shape)\n",
    "total_df.head()"
   ]
  },
  {
   "cell_type": "code",
   "execution_count": null,
   "id": "1c2f0b38",
   "metadata": {},
   "outputs": [],
   "source": [
    "total_df.to_csv(\"/data/usdkrw_data.csv\")"
   ]
  }
 ],
 "metadata": {
  "kernelspec": {
   "display_name": "Python 3",
   "language": "python",
   "name": "python3"
  },
  "language_info": {
   "codemirror_mode": {
    "name": "ipython",
    "version": 3
   },
   "file_extension": ".py",
   "mimetype": "text/x-python",
   "name": "python",
   "nbconvert_exporter": "python",
   "pygments_lexer": "ipython3",
   "version": "3.8.20"
  }
 },
 "nbformat": 4,
 "nbformat_minor": 5
}
